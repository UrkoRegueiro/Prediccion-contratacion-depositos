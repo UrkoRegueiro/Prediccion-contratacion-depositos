{
 "cells": [
  {
   "cell_type": "code",
   "execution_count": null,
   "id": "097fcf32-b2a0-43da-a936-aa2cebcdd81f",
   "metadata": {},
   "outputs": [],
   "source": [
    "# Preprocesamiento:\n",
    "from sklearn.preprocessing import OneHotEncoder, StandardScaler\n",
    "\n",
    "\n",
    "# Modelos\n",
    "from sklearn.cluster import KMeans\n",
    "\n",
    "\n",
    "# Métricas\n",
    "from sklearn.metrics import silhouette_score"
   ]
  },
  {
   "cell_type": "markdown",
   "id": "8e165a70-bb25-41cc-a7eb-83e88502b91c",
   "metadata": {},
   "source": [
    "## 4.3. Análisis de clustering"
   ]
  },
  {
   "cell_type": "markdown",
   "id": "0263f916-e49e-472c-8bfb-dbc6ec379b96",
   "metadata": {},
   "source": [
    "### 4.3.1. Preparación del set de datos\n",
    "\n",
    "<span style=\"font-size:larger;\">\n",
    "    \n",
    "Para este análisis tomaremos las siguientes variables en consideración:\n",
    "\n",
    "**edad**, **trabajo**, **estado_civil**, **educacion**, **deuda**, **saldo**, **vivienda**, **prestamo**, **duracion**, **campaign**, **contactos_anteriores**\n",
    "\n",
    "    \n",
    "No se incluyen las columnas \"tipo_contacto\" y \"resultado_campanas_anteriores\" por contener demasiados valores nulos.\n",
    "No se incluyen las columna \"fecha_contacto\" y \"tiempo_transcurrido\" por no aportar información relevante en este análisis. (Podría comprobarse en análisis exhaustivo)\n",
    "</span>"
   ]
  },
  {
   "cell_type": "code",
   "execution_count": null,
   "id": "cd9c931d-ceae-4e79-a3c3-deea3494a2b3",
   "metadata": {},
   "outputs": [],
   "source": []
  },
  {
   "cell_type": "code",
   "execution_count": 216,
   "id": "9a520dc2-a13a-4406-b223-823d73f5a60e",
   "metadata": {
    "tags": []
   },
   "outputs": [],
   "source": [
    "clustering_cols = [\"edad\", \"trabajo\", \"estado_civil\", \"educacion\", \"deuda\", \"saldo\", \"vivienda\", \"prestamo\", \"duracion\", \"campaign\", \"contactos_anteriores\"]"
   ]
  },
  {
   "cell_type": "code",
   "execution_count": 217,
   "id": "4323b446-679e-4995-8dd5-2c5743d648dd",
   "metadata": {
    "tags": []
   },
   "outputs": [],
   "source": [
    "data_clustering = data[clustering_cols].copy()"
   ]
  },
  {
   "cell_type": "code",
   "execution_count": 218,
   "id": "688ba1e2-240f-46ea-a147-e9a5f350dd30",
   "metadata": {
    "tags": []
   },
   "outputs": [
    {
     "data": {
      "text/html": [
       "<div>\n",
       "<style scoped>\n",
       "    .dataframe tbody tr th:only-of-type {\n",
       "        vertical-align: middle;\n",
       "    }\n",
       "\n",
       "    .dataframe tbody tr th {\n",
       "        vertical-align: top;\n",
       "    }\n",
       "\n",
       "    .dataframe thead th {\n",
       "        text-align: right;\n",
       "    }\n",
       "</style>\n",
       "<table border=\"1\" class=\"dataframe\">\n",
       "  <thead>\n",
       "    <tr style=\"text-align: right;\">\n",
       "      <th></th>\n",
       "      <th>edad</th>\n",
       "      <th>trabajo</th>\n",
       "      <th>estado_civil</th>\n",
       "      <th>educacion</th>\n",
       "      <th>deuda</th>\n",
       "      <th>saldo</th>\n",
       "      <th>vivienda</th>\n",
       "      <th>prestamo</th>\n",
       "      <th>duracion</th>\n",
       "      <th>campaign</th>\n",
       "      <th>contactos_anteriores</th>\n",
       "    </tr>\n",
       "  </thead>\n",
       "  <tbody>\n",
       "    <tr>\n",
       "      <th>0</th>\n",
       "      <td>40</td>\n",
       "      <td>blue-collar</td>\n",
       "      <td>casado</td>\n",
       "      <td>secundaria/superiores</td>\n",
       "      <td>0</td>\n",
       "      <td>580</td>\n",
       "      <td>1</td>\n",
       "      <td>0</td>\n",
       "      <td>192</td>\n",
       "      <td>1</td>\n",
       "      <td>0</td>\n",
       "    </tr>\n",
       "    <tr>\n",
       "      <th>1</th>\n",
       "      <td>47</td>\n",
       "      <td>services</td>\n",
       "      <td>soltero</td>\n",
       "      <td>secundaria/superiores</td>\n",
       "      <td>0</td>\n",
       "      <td>3644</td>\n",
       "      <td>0</td>\n",
       "      <td>0</td>\n",
       "      <td>83</td>\n",
       "      <td>2</td>\n",
       "      <td>0</td>\n",
       "    </tr>\n",
       "    <tr>\n",
       "      <th>2</th>\n",
       "      <td>25</td>\n",
       "      <td>student</td>\n",
       "      <td>soltero</td>\n",
       "      <td>universitarios</td>\n",
       "      <td>0</td>\n",
       "      <td>538</td>\n",
       "      <td>1</td>\n",
       "      <td>0</td>\n",
       "      <td>226</td>\n",
       "      <td>1</td>\n",
       "      <td>0</td>\n",
       "    </tr>\n",
       "  </tbody>\n",
       "</table>\n",
       "</div>"
      ],
      "text/plain": [
       "   edad      trabajo estado_civil              educacion  deuda  saldo  \\\n",
       "0    40  blue-collar       casado  secundaria/superiores      0    580   \n",
       "1    47     services      soltero  secundaria/superiores      0   3644   \n",
       "2    25      student      soltero         universitarios      0    538   \n",
       "\n",
       "   vivienda  prestamo  duracion  campaign  contactos_anteriores  \n",
       "0         1         0       192         1                     0  \n",
       "1         0         0        83         2                     0  \n",
       "2         1         0       226         1                     0  "
      ]
     },
     "execution_count": 218,
     "metadata": {},
     "output_type": "execute_result"
    }
   ],
   "source": [
    "data_clustering.head(3)"
   ]
  },
  {
   "cell_type": "markdown",
   "id": "6d438b9f-d89f-42f1-a60e-144cd5d38a07",
   "metadata": {},
   "source": [
    "<span style=\"font-size:larger;\">\n",
    "    \n",
    "* La columna \"educacion\" presentaba valores nulos. El tratamiento se tendría que discutir, pudiendo hacerse:\n",
    "    - Asignar la categoria \"desconocida\"\n",
    "    - Imputar con KNN\n",
    "    \n",
    "Por simplicidad en nuestro caso elegiremos la primera opción.\n",
    "\n",
    "</span>"
   ]
  },
  {
   "cell_type": "code",
   "execution_count": 219,
   "id": "08a920cd-8310-4962-a72a-d00837ca99a9",
   "metadata": {
    "tags": []
   },
   "outputs": [],
   "source": [
    "data_clustering[\"educacion\"] = data_clustering[\"educacion\"].fillna(\"desconocida\")"
   ]
  },
  {
   "cell_type": "markdown",
   "id": "60f2491e-88c4-4607-a7ab-1006de2cd0a9",
   "metadata": {},
   "source": [
    "<span style=\"font-size:larger;\">\n",
    "    \n",
    "* Hago un encoding a las columnas categoricas:\n",
    "\n",
    "</span>"
   ]
  },
  {
   "cell_type": "code",
   "execution_count": 210,
   "id": "7fd0db2e-192c-4c6d-8204-19035398f1c9",
   "metadata": {
    "tags": []
   },
   "outputs": [],
   "source": [
    "def column_encoder(df, columns, encoder, ruta_encoders):\n",
    "    \n",
    "    for num, column in enumerate(columns):\n",
    "        \n",
    "        data_encoded = encoder.fit_transform(df[[column]]).toarray()\n",
    "            \n",
    "        with open(ruta_encoders + f\"{num}_{column}_encoder.pickle\", 'wb') as archivo:\n",
    "            pickle.dump(encoder, archivo)\n",
    "            \n",
    "        df_encoded = pd.DataFrame(data_encoded, columns= encoder.categories_[0].tolist())\n",
    "        df = pd.concat([df, df_encoded], axis=1).drop([column], axis=1)\n",
    "        \n",
    "    return df"
   ]
  },
  {
   "cell_type": "code",
   "execution_count": 220,
   "id": "80498570-1b92-4a16-b9b7-5ee327be5cb4",
   "metadata": {
    "tags": []
   },
   "outputs": [],
   "source": [
    "ruta_encoders = \"utiles/encoders/\"\n",
    "encoded_columns = [\"trabajo\", \"estado_civil\", \"educacion\"]\n",
    "encoder = OneHotEncoder()"
   ]
  },
  {
   "cell_type": "code",
   "execution_count": 221,
   "id": "1c8e6d3c-e5fc-4c13-9040-ef6ec785b3a6",
   "metadata": {
    "tags": []
   },
   "outputs": [],
   "source": [
    "data_clustering = column_encoder(data_clustering, encoded_columns, encoder, ruta_encoders)"
   ]
  },
  {
   "cell_type": "code",
   "execution_count": 222,
   "id": "cc18eb2d-42dd-4106-a306-83b4784e8036",
   "metadata": {
    "tags": []
   },
   "outputs": [
    {
     "data": {
      "text/html": [
       "<div>\n",
       "<style scoped>\n",
       "    .dataframe tbody tr th:only-of-type {\n",
       "        vertical-align: middle;\n",
       "    }\n",
       "\n",
       "    .dataframe tbody tr th {\n",
       "        vertical-align: top;\n",
       "    }\n",
       "\n",
       "    .dataframe thead th {\n",
       "        text-align: right;\n",
       "    }\n",
       "</style>\n",
       "<table border=\"1\" class=\"dataframe\">\n",
       "  <thead>\n",
       "    <tr style=\"text-align: right;\">\n",
       "      <th></th>\n",
       "      <th>edad</th>\n",
       "      <th>deuda</th>\n",
       "      <th>saldo</th>\n",
       "      <th>vivienda</th>\n",
       "      <th>prestamo</th>\n",
       "      <th>duracion</th>\n",
       "      <th>campaign</th>\n",
       "      <th>contactos_anteriores</th>\n",
       "      <th>admin.</th>\n",
       "      <th>blue-collar</th>\n",
       "      <th>...</th>\n",
       "      <th>technician</th>\n",
       "      <th>unemployed</th>\n",
       "      <th>unknown</th>\n",
       "      <th>casado</th>\n",
       "      <th>divorciado</th>\n",
       "      <th>soltero</th>\n",
       "      <th>desconocida</th>\n",
       "      <th>priamaria</th>\n",
       "      <th>secundaria/superiores</th>\n",
       "      <th>universitarios</th>\n",
       "    </tr>\n",
       "  </thead>\n",
       "  <tbody>\n",
       "    <tr>\n",
       "      <th>0</th>\n",
       "      <td>40</td>\n",
       "      <td>0</td>\n",
       "      <td>580</td>\n",
       "      <td>1</td>\n",
       "      <td>0</td>\n",
       "      <td>192</td>\n",
       "      <td>1</td>\n",
       "      <td>0</td>\n",
       "      <td>0.0</td>\n",
       "      <td>1.0</td>\n",
       "      <td>...</td>\n",
       "      <td>0.0</td>\n",
       "      <td>0.0</td>\n",
       "      <td>0.0</td>\n",
       "      <td>1.0</td>\n",
       "      <td>0.0</td>\n",
       "      <td>0.0</td>\n",
       "      <td>0.0</td>\n",
       "      <td>0.0</td>\n",
       "      <td>1.0</td>\n",
       "      <td>0.0</td>\n",
       "    </tr>\n",
       "  </tbody>\n",
       "</table>\n",
       "<p>1 rows × 27 columns</p>\n",
       "</div>"
      ],
      "text/plain": [
       "   edad  deuda  saldo  vivienda  prestamo  duracion  campaign  \\\n",
       "0    40      0    580         1         0       192         1   \n",
       "\n",
       "   contactos_anteriores  admin.  blue-collar  ...  technician  unemployed  \\\n",
       "0                     0     0.0          1.0  ...         0.0         0.0   \n",
       "\n",
       "   unknown  casado  divorciado  soltero  desconocida  priamaria  \\\n",
       "0      0.0     1.0         0.0      0.0          0.0        0.0   \n",
       "\n",
       "   secundaria/superiores  universitarios  \n",
       "0                    1.0             0.0  \n",
       "\n",
       "[1 rows x 27 columns]"
      ]
     },
     "execution_count": 222,
     "metadata": {},
     "output_type": "execute_result"
    }
   ],
   "source": [
    "data_clustering.head(1)"
   ]
  },
  {
   "cell_type": "markdown",
   "id": "316976ec-beb2-4895-bba6-c9442969d31a",
   "metadata": {},
   "source": [
    "## 7.2. K-Means Clustering\n",
    "\n",
    "<span style=\"font-size:larger;\">\n",
    "\n",
    "K-Means es un algoritmo de aprendizaje no supervisado que tiene como objetivo agrupar observaciones en un conjunto de datos en diferentes clústeres. Dado que nuestro objetivo es identificar los diferentes grupos a los que pertenecen los clientes, intentaremos encontrar el número de clústeres que mejor se adapte a nuestros datos.\n",
    "    \n",
    "</span>"
   ]
  },
  {
   "cell_type": "code",
   "execution_count": 176,
   "id": "990d0f13-6c15-4414-a1db-ca929bd6dd9d",
   "metadata": {
    "jupyter": {
     "source_hidden": true
    },
    "tags": []
   },
   "outputs": [],
   "source": [
    "def kmeans_inertia(k, X):\n",
    "        '''\n",
    "    Fits a KMeans model for different values of k.\n",
    "    Calculates an inertia score for each k value.\n",
    "\n",
    "    Args:\n",
    "        k: (list of ints) - The different k values to try\n",
    "        X: (array) - The training data         \n",
    "\n",
    "    Returns: \n",
    "        inertia: (list) - A list of inertia scores, one for each value of k\n",
    "    '''\n",
    "        \n",
    "        inertia = []\n",
    "        \n",
    "        for i in k:\n",
    "            kms = KMeans(n_clusters = i, random_state = 42)\n",
    "            kms.fit(X)            \n",
    "            inertia.append(kms.inertia_)\n",
    "        \n",
    "        return inertia\n",
    "    \n",
    "def kmeans_sil(k, X):\n",
    "    '''\n",
    "    Fits a KMeans model for different values of k.\n",
    "    Calculates a silhouette score for each k value\n",
    "\n",
    "    Args:\n",
    "        k: (list of ints) - The different k values to try\n",
    "        X: (array) - The training data\n",
    "\n",
    "    Returns: \n",
    "        sil_scores: (list) - A list of silhouette scores, one for each value of k\n",
    "    '''\n",
    "    \n",
    "    sil_scores = []\n",
    "    \n",
    "    for i in k:\n",
    "        kms = KMeans(n_clusters = i, random_state = 42)\n",
    "        kms.fit(X)\n",
    "        sil_scores.append(silhouette_score(X, kms.labels_))\n",
    "        \n",
    "    return sil_scores"
   ]
  },
  {
   "cell_type": "code",
   "execution_count": 225,
   "id": "c2382f14-3f9b-4f5e-8909-50e5d73150b9",
   "metadata": {
    "tags": []
   },
   "outputs": [],
   "source": [
    "num_clusters = [i for i in range(2, 11)]\n",
    "\n",
    "Inertia_log = kmeans_inertia(num_clusters, data_clustering)"
   ]
  },
  {
   "cell_type": "code",
   "execution_count": 226,
   "id": "5cbf1621-bb6a-466e-9e62-2b0e753fb24b",
   "metadata": {
    "tags": []
   },
   "outputs": [
    {
     "data": {
      "image/png": "[encoded data removed]",
      "text/plain": [
       "<Figure size 640x480 with 1 Axes>"
      ]
     },
     "metadata": {},
     "output_type": "display_data"
    }
   ],
   "source": [
    "plot = sns.lineplot(x=num_clusters, y=Inertia_log, marker = \"o\")\n",
    "plot.set_xlabel(\"Number of clusters\");\n",
    "plot.set_ylabel(\"Inertia\");"
   ]
  },
  {
   "cell_type": "markdown",
   "id": "3ebb55b0-f826-4382-9dd5-9e22f5178a2b",
   "metadata": {},
   "source": [
    "<span style=\"font-size:larger;\">\n",
    "\n",
    "\n",
    "El codo no está claro, pero parece estar en tres clusters. Vamos a verificarlo con el Silhouette score.<br>\n",
    "\n",
    "El Silhouette score proporciona información sobre cuál debería ser el valor óptimo para k, y utiliza tanto medidas intraclúster como interclúster en sus cálculos.\n",
    "    \n",
    "</span>"
   ]
  },
  {
   "cell_type": "code",
   "execution_count": 227,
   "id": "fc42e529-1f6c-4982-8b51-fe67a5b7349a",
   "metadata": {
    "tags": []
   },
   "outputs": [],
   "source": [
    "sil_scores = kmeans_sil(num_clusters, data_clustering)"
   ]
  },
  {
   "cell_type": "code",
   "execution_count": 228,
   "id": "c08b1ade-8094-4578-b2d1-d2ca8cfdaa50",
   "metadata": {
    "tags": []
   },
   "outputs": [
    {
     "data": {
      "image/png": "[encoded data removed]",
      "text/plain": [
       "<Figure size 640x480 with 1 Axes>"
      ]
     },
     "metadata": {},
     "output_type": "display_data"
    }
   ],
   "source": [
    "plot = sns.lineplot(x=num_clusters, y=sil_scores)\n",
    "plot.axvline(x=2, color=\"red\", linestyle=\"--\")\n",
    "plot.set_xlabel(\"Número de clusters\");\n",
    "plot.set_ylabel(\"Silhouette Score\");"
   ]
  },
  {
   "cell_type": "markdown",
   "id": "14d002da-0c98-4c4f-b178-edbad2311a45",
   "metadata": {},
   "source": [
    "<span style=\"font-size:larger;\">\n",
    "    \n",
    "Está más cerca del 1 los dos clusters. Serían dos grupos.\n",
    "    \n",
    "Empiezo probando con 3 aún así.\n",
    "\n",
    "</span>"
   ]
  },
  {
   "cell_type": "code",
   "execution_count": 229,
   "id": "405a3649-e2b2-430b-923c-f320f2c6f611",
   "metadata": {
    "tags": []
   },
   "outputs": [
    {
     "data": {
      "text/html": [
       "<style>#sk-container-id-1 {color: black;}#sk-container-id-1 pre{padding: 0;}#sk-container-id-1 div.sk-toggleable {background-color: white;}#sk-container-id-1 label.sk-toggleable__label {cursor: pointer;display: block;width: 100%;margin-bottom: 0;padding: 0.3em;box-sizing: border-box;text-align: center;}#sk-container-id-1 label.sk-toggleable__label-arrow:before {content: \"▸\";float: left;margin-right: 0.25em;color: #696969;}#sk-container-id-1 label.sk-toggleable__label-arrow:hover:before {color: black;}#sk-container-id-1 div.sk-estimator:hover label.sk-toggleable__label-arrow:before {color: black;}#sk-container-id-1 div.sk-toggleable__content {max-height: 0;max-width: 0;overflow: hidden;text-align: left;background-color: #f0f8ff;}#sk-container-id-1 div.sk-toggleable__content pre {margin: 0.2em;color: black;border-radius: 0.25em;background-color: #f0f8ff;}#sk-container-id-1 input.sk-toggleable__control:checked~div.sk-toggleable__content {max-height: 200px;max-width: 100%;overflow: auto;}#sk-container-id-1 input.sk-toggleable__control:checked~label.sk-toggleable__label-arrow:before {content: \"▾\";}#sk-container-id-1 div.sk-estimator input.sk-toggleable__control:checked~label.sk-toggleable__label {background-color: #d4ebff;}#sk-container-id-1 div.sk-label input.sk-toggleable__control:checked~label.sk-toggleable__label {background-color: #d4ebff;}#sk-container-id-1 input.sk-hidden--visually {border: 0;clip: rect(1px 1px 1px 1px);clip: rect(1px, 1px, 1px, 1px);height: 1px;margin: -1px;overflow: hidden;padding: 0;position: absolute;width: 1px;}#sk-container-id-1 div.sk-estimator {font-family: monospace;background-color: #f0f8ff;border: 1px dotted black;border-radius: 0.25em;box-sizing: border-box;margin-bottom: 0.5em;}#sk-container-id-1 div.sk-estimator:hover {background-color: #d4ebff;}#sk-container-id-1 div.sk-parallel-item::after {content: \"\";width: 100%;border-bottom: 1px solid gray;flex-grow: 1;}#sk-container-id-1 div.sk-label:hover label.sk-toggleable__label {background-color: #d4ebff;}#sk-container-id-1 div.sk-serial::before {content: \"\";position: absolute;border-left: 1px solid gray;box-sizing: border-box;top: 0;bottom: 0;left: 50%;z-index: 0;}#sk-container-id-1 div.sk-serial {display: flex;flex-direction: column;align-items: center;background-color: white;padding-right: 0.2em;padding-left: 0.2em;position: relative;}#sk-container-id-1 div.sk-item {position: relative;z-index: 1;}#sk-container-id-1 div.sk-parallel {display: flex;align-items: stretch;justify-content: center;background-color: white;position: relative;}#sk-container-id-1 div.sk-item::before, #sk-container-id-1 div.sk-parallel-item::before {content: \"\";position: absolute;border-left: 1px solid gray;box-sizing: border-box;top: 0;bottom: 0;left: 50%;z-index: -1;}#sk-container-id-1 div.sk-parallel-item {display: flex;flex-direction: column;z-index: 1;position: relative;background-color: white;}#sk-container-id-1 div.sk-parallel-item:first-child::after {align-self: flex-end;width: 50%;}#sk-container-id-1 div.sk-parallel-item:last-child::after {align-self: flex-start;width: 50%;}#sk-container-id-1 div.sk-parallel-item:only-child::after {width: 0;}#sk-container-id-1 div.sk-dashed-wrapped {border: 1px dashed gray;margin: 0 0.4em 0.5em 0.4em;box-sizing: border-box;padding-bottom: 0.4em;background-color: white;}#sk-container-id-1 div.sk-label label {font-family: monospace;font-weight: bold;display: inline-block;line-height: 1.2em;}#sk-container-id-1 div.sk-label-container {text-align: center;}#sk-container-id-1 div.sk-container {/* jupyter's `normalize.less` sets `[hidden] { display: none; }` but bootstrap.min.css set `[hidden] { display: none !important; }` so we also need the `!important` here to be able to override the default hidden behavior on the sphinx rendered scikit-learn.org. See: https://github.com/scikit-learn/scikit-learn/issues/21755 */display: inline-block !important;position: relative;}#sk-container-id-1 div.sk-text-repr-fallback {display: none;}</style><div id=\"sk-container-id-1\" class=\"sk-top-container\"><div class=\"sk-text-repr-fallback\"><pre>KMeans(n_clusters=3, random_state=42)</pre><b>In a Jupyter environment, please rerun this cell to show the HTML representation or trust the notebook. <br />On GitHub, the HTML representation is unable to render, please try loading this page with nbviewer.org.</b></div><div class=\"sk-container\" hidden><div class=\"sk-item\"><div class=\"sk-estimator sk-toggleable\"><input class=\"sk-toggleable__control sk-hidden--visually\" id=\"sk-estimator-id-1\" type=\"checkbox\" checked><label for=\"sk-estimator-id-1\" class=\"sk-toggleable__label sk-toggleable__label-arrow\">KMeans</label><div class=\"sk-toggleable__content\"><pre>KMeans(n_clusters=3, random_state=42)</pre></div></div></div></div></div>"
      ],
      "text/plain": [
       "KMeans(n_clusters=3, random_state=42)"
      ]
     },
     "execution_count": 229,
     "metadata": {},
     "output_type": "execute_result"
    }
   ],
   "source": [
    "KMeans_3 = KMeans(n_clusters=3, random_state=42)\n",
    "KMeans_3.fit(data_clustering)"
   ]
  },
  {
   "cell_type": "code",
   "execution_count": 231,
   "id": "188a300e-3351-48a5-a9d7-d446622fb89e",
   "metadata": {
    "tags": []
   },
   "outputs": [
    {
     "data": {
      "text/html": [
       "<div>\n",
       "<style scoped>\n",
       "    .dataframe tbody tr th:only-of-type {\n",
       "        vertical-align: middle;\n",
       "    }\n",
       "\n",
       "    .dataframe tbody tr th {\n",
       "        vertical-align: top;\n",
       "    }\n",
       "\n",
       "    .dataframe thead th {\n",
       "        text-align: right;\n",
       "    }\n",
       "</style>\n",
       "<table border=\"1\" class=\"dataframe\">\n",
       "  <thead>\n",
       "    <tr style=\"text-align: right;\">\n",
       "      <th></th>\n",
       "      <th>edad</th>\n",
       "      <th>deuda</th>\n",
       "      <th>saldo</th>\n",
       "      <th>vivienda</th>\n",
       "      <th>prestamo</th>\n",
       "      <th>duracion</th>\n",
       "      <th>campaign</th>\n",
       "      <th>contactos_anteriores</th>\n",
       "      <th>admin.</th>\n",
       "      <th>blue-collar</th>\n",
       "      <th>...</th>\n",
       "      <th>technician</th>\n",
       "      <th>unemployed</th>\n",
       "      <th>unknown</th>\n",
       "      <th>casado</th>\n",
       "      <th>divorciado</th>\n",
       "      <th>soltero</th>\n",
       "      <th>desconocida</th>\n",
       "      <th>priamaria</th>\n",
       "      <th>secundaria/superiores</th>\n",
       "      <th>universitarios</th>\n",
       "    </tr>\n",
       "  </thead>\n",
       "  <tbody>\n",
       "    <tr>\n",
       "      <th>0</th>\n",
       "      <td>40.627715</td>\n",
       "      <td>0.020081</td>\n",
       "      <td>641.215646</td>\n",
       "      <td>0.564676</td>\n",
       "      <td>0.169740</td>\n",
       "      <td>256.459763</td>\n",
       "      <td>2.771403</td>\n",
       "      <td>0.569463</td>\n",
       "      <td>0.116982</td>\n",
       "      <td>0.220635</td>\n",
       "      <td>...</td>\n",
       "      <td>0.169186</td>\n",
       "      <td>0.028370</td>\n",
       "      <td>0.006072</td>\n",
       "      <td>0.598035</td>\n",
       "      <td>0.117385</td>\n",
       "      <td>0.284580</td>\n",
       "      <td>0.040111</td>\n",
       "      <td>0.152356</td>\n",
       "      <td>0.523558</td>\n",
       "      <td>0.283976</td>\n",
       "    </tr>\n",
       "    <tr>\n",
       "      <th>1</th>\n",
       "      <td>43.461394</td>\n",
       "      <td>0.000235</td>\n",
       "      <td>6339.637174</td>\n",
       "      <td>0.486506</td>\n",
       "      <td>0.082610</td>\n",
       "      <td>275.771650</td>\n",
       "      <td>2.665337</td>\n",
       "      <td>0.697724</td>\n",
       "      <td>0.096222</td>\n",
       "      <td>0.172729</td>\n",
       "      <td>...</td>\n",
       "      <td>0.161699</td>\n",
       "      <td>0.032152</td>\n",
       "      <td>0.008214</td>\n",
       "      <td>0.637878</td>\n",
       "      <td>0.096691</td>\n",
       "      <td>0.265431</td>\n",
       "      <td>0.048111</td>\n",
       "      <td>0.149495</td>\n",
       "      <td>0.429007</td>\n",
       "      <td>0.373387</td>\n",
       "    </tr>\n",
       "    <tr>\n",
       "      <th>2</th>\n",
       "      <td>45.606557</td>\n",
       "      <td>0.003279</td>\n",
       "      <td>25539.449180</td>\n",
       "      <td>0.400000</td>\n",
       "      <td>0.055738</td>\n",
       "      <td>256.718033</td>\n",
       "      <td>2.744262</td>\n",
       "      <td>0.537705</td>\n",
       "      <td>0.075410</td>\n",
       "      <td>0.085246</td>\n",
       "      <td>...</td>\n",
       "      <td>0.104918</td>\n",
       "      <td>0.036066</td>\n",
       "      <td>0.013115</td>\n",
       "      <td>0.649180</td>\n",
       "      <td>0.104918</td>\n",
       "      <td>0.245902</td>\n",
       "      <td>0.042623</td>\n",
       "      <td>0.078689</td>\n",
       "      <td>0.344262</td>\n",
       "      <td>0.534426</td>\n",
       "    </tr>\n",
       "  </tbody>\n",
       "</table>\n",
       "<p>3 rows × 27 columns</p>\n",
       "</div>"
      ],
      "text/plain": [
       "        edad     deuda         saldo  vivienda  prestamo    duracion  \\\n",
       "0  40.627715  0.020081    641.215646  0.564676  0.169740  256.459763   \n",
       "1  43.461394  0.000235   6339.637174  0.486506  0.082610  275.771650   \n",
       "2  45.606557  0.003279  25539.449180  0.400000  0.055738  256.718033   \n",
       "\n",
       "   campaign  contactos_anteriores    admin.  blue-collar  ...  technician  \\\n",
       "0  2.771403              0.569463  0.116982     0.220635  ...    0.169186   \n",
       "1  2.665337              0.697724  0.096222     0.172729  ...    0.161699   \n",
       "2  2.744262              0.537705  0.075410     0.085246  ...    0.104918   \n",
       "\n",
       "   unemployed   unknown    casado  divorciado   soltero  desconocida  \\\n",
       "0    0.028370  0.006072  0.598035    0.117385  0.284580     0.040111   \n",
       "1    0.032152  0.008214  0.637878    0.096691  0.265431     0.048111   \n",
       "2    0.036066  0.013115  0.649180    0.104918  0.245902     0.042623   \n",
       "\n",
       "   priamaria  secundaria/superiores  universitarios  \n",
       "0   0.152356               0.523558        0.283976  \n",
       "1   0.149495               0.429007        0.373387  \n",
       "2   0.078689               0.344262        0.534426  \n",
       "\n",
       "[3 rows x 27 columns]"
      ]
     },
     "execution_count": 231,
     "metadata": {},
     "output_type": "execute_result"
    }
   ],
   "source": [
    "df_centroides  = pd.DataFrame(data = KMeans_3.cluster_centers_, columns = data_clustering.columns)\n",
    "df_centroides"
   ]
  },
  {
   "cell_type": "code",
   "execution_count": 235,
   "id": "f35af4bc-77cd-4b53-a598-02799b518048",
   "metadata": {
    "tags": []
   },
   "outputs": [],
   "source": [
    "data_clus = data.copy()"
   ]
  },
  {
   "cell_type": "code",
   "execution_count": 236,
   "id": "8ff0e35b-7dd3-41bd-b91e-b026f722d041",
   "metadata": {
    "tags": []
   },
   "outputs": [],
   "source": [
    "data_clus[\"cluster\"] = KMeans_3.labels_"
   ]
  },
  {
   "cell_type": "code",
   "execution_count": 243,
   "id": "f15977c9-98e0-4b0d-aa6f-6d4fb7648b21",
   "metadata": {
    "tags": []
   },
   "outputs": [
    {
     "data": {
      "text/plain": [
       "cluster  trabajo      \n",
       "0        blue-collar      8757\n",
       "         management       7992\n",
       "         technician       6713\n",
       "         admin.           4643\n",
       "         services         3759\n",
       "         retired          1879\n",
       "         self-employed    1364\n",
       "         entrepreneur     1311\n",
       "         unemployed       1126\n",
       "         housemaid        1077\n",
       "         student           826\n",
       "         unknown           241\n",
       "1        management       1154\n",
       "         blue-collar       736\n",
       "         technician        691\n",
       "         admin.            410\n",
       "         retired           308\n",
       "         services          288\n",
       "         self-employed     167\n",
       "         unemployed        137\n",
       "         housemaid         129\n",
       "         entrepreneur      116\n",
       "         student            92\n",
       "         unknown            35\n",
       "2        management        117\n",
       "         technician         32\n",
       "         retired            30\n",
       "         blue-collar        26\n",
       "         admin.             23\n",
       "         entrepreneur       23\n",
       "         self-employed      17\n",
       "         unemployed         11\n",
       "         housemaid           9\n",
       "         services            9\n",
       "         student             4\n",
       "         unknown             4\n",
       "Name: count, dtype: int64"
      ]
     },
     "execution_count": 243,
     "metadata": {},
     "output_type": "execute_result"
    }
   ],
   "source": [
    "data_clus.groupby(\"cluster\")[\"trabajo\"].value_counts()"
   ]
  },
  {
   "cell_type": "markdown",
   "id": "d69f70be-db77-49c2-be4a-a003f4c9177f",
   "metadata": {},
   "source": [
    "# GradientboostingClassifier"
   ]
  },
  {
   "cell_type": "markdown",
   "id": "a763eadc-f5c9-4049-8ad4-acd80ee9821c",
   "metadata": {
    "tags": []
   },
   "source": [
    "# Con columnas imp"
   ]
  },
  {
   "cell_type": "code",
   "execution_count": 90,
   "id": "2739eb28-6850-4ace-89d7-dd21aa5f2da8",
   "metadata": {
    "tags": []
   },
   "outputs": [
    {
     "name": "stdout",
     "output_type": "stream",
     "text": [
      "X_train: (35943, 24), y_train: (35943,)\n",
      "X_test: (8986, 24), y_test: (8986,)\n"
     ]
    }
   ],
   "source": [
    "X_data_imp_cols = X_balanceado[best_cols]\n",
    "y_data_imp_cols = y_balanceado.copy()\n",
    "\n",
    "X_train, X_test, y_train, y_test = train_test_split(X_data_imp_cols, y_data_imp_cols, test_size=0.2, random_state=42, stratify= y_data_imp_cols)\n",
    "\n",
    "print(f\"X_train: {X_train.shape}, y_train: {y_train.shape}\")\n",
    "print(f\"X_test: {X_test.shape}, y_test: {y_test.shape}\")"
   ]
  },
  {
   "cell_type": "code",
   "execution_count": 91,
   "id": "066139c7-fca0-4253-8baa-e60ba93c080b",
   "metadata": {
    "tags": []
   },
   "outputs": [],
   "source": [
    "model_GBC = GradientBoostingClassifier(random_state=42)\n",
    "\n",
    "scorer = [\"accuracy\"]\n",
    "\n",
    "params = {\"n_estimators\"         : [100],\n",
    "          \"criterion\"            : ['friedman_mse'],\n",
    "          \"subsample\"            : [1],\n",
    "          \"max_depth\"            : [3],\n",
    "          \"max_features\"         : [None],\n",
    "          \"max_leaf_nodes\"       : [None],\n",
    "          \"min_impurity_decrease\": [0],\n",
    "          \"min_samples_split\"    : [2],\n",
    "          \"loss\"                 : ['log_loss'],\n",
    "          \"learning_rate\"        : [0.1]\n",
    "         }\n",
    "\n",
    "resultados_tuning_GBC = tunning(model_GBC, params, scorer, X_train, X_test, y_train, y_test)"
   ]
  },
  {
   "cell_type": "code",
   "execution_count": 92,
   "id": "cd107516-7590-4d27-8487-c1cb2cd98b42",
   "metadata": {
    "tags": []
   },
   "outputs": [
    {
     "data": {
      "text/html": [
       "<div>\n",
       "<style scoped>\n",
       "    .dataframe tbody tr th:only-of-type {\n",
       "        vertical-align: middle;\n",
       "    }\n",
       "\n",
       "    .dataframe tbody tr th {\n",
       "        vertical-align: top;\n",
       "    }\n",
       "\n",
       "    .dataframe thead th {\n",
       "        text-align: right;\n",
       "    }\n",
       "</style>\n",
       "<table border=\"1\" class=\"dataframe\">\n",
       "  <thead>\n",
       "    <tr style=\"text-align: right;\">\n",
       "      <th></th>\n",
       "      <th>Nombre</th>\n",
       "      <th>Accuracy</th>\n",
       "      <th>Precision</th>\n",
       "      <th>Recall</th>\n",
       "    </tr>\n",
       "  </thead>\n",
       "  <tbody>\n",
       "    <tr>\n",
       "      <th>0</th>\n",
       "      <td>GradientBoostingClassifier</td>\n",
       "      <td>0.894836</td>\n",
       "      <td>0.6457</td>\n",
       "      <td>0.429181</td>\n",
       "    </tr>\n",
       "  </tbody>\n",
       "</table>\n",
       "</div>"
      ],
      "text/plain": [
       "                       Nombre  Accuracy  Precision    Recall\n",
       "0  GradientBoostingClassifier  0.894836     0.6457  0.429181"
      ]
     },
     "execution_count": 92,
     "metadata": {},
     "output_type": "execute_result"
    }
   ],
   "source": [
    "resultados_tuning_GBC[[\"Nombre\", \"Accuracy\", \"Precision\", \"Recall\"]]"
   ]
  },
  {
   "cell_type": "code",
   "execution_count": 69,
   "id": "1ec909c1-ceec-47fb-9544-2923adf33e4f",
   "metadata": {
    "tags": []
   },
   "outputs": [
    {
     "data": {
      "text/html": [
       "<div>\n",
       "<style scoped>\n",
       "    .dataframe tbody tr th:only-of-type {\n",
       "        vertical-align: middle;\n",
       "    }\n",
       "\n",
       "    .dataframe tbody tr th {\n",
       "        vertical-align: top;\n",
       "    }\n",
       "\n",
       "    .dataframe thead th {\n",
       "        text-align: right;\n",
       "    }\n",
       "</style>\n",
       "<table border=\"1\" class=\"dataframe\">\n",
       "  <thead>\n",
       "    <tr style=\"text-align: right;\">\n",
       "      <th></th>\n",
       "      <th>Nombre</th>\n",
       "      <th>Accuracy</th>\n",
       "      <th>Precision</th>\n",
       "      <th>Recall</th>\n",
       "    </tr>\n",
       "  </thead>\n",
       "  <tbody>\n",
       "    <tr>\n",
       "      <th>0</th>\n",
       "      <td>GradientBoostingClassifier</td>\n",
       "      <td>0.894169</td>\n",
       "      <td>0.643693</td>\n",
       "      <td>0.422355</td>\n",
       "    </tr>\n",
       "  </tbody>\n",
       "</table>\n",
       "</div>"
      ],
      "text/plain": [
       "                       Nombre  Accuracy  Precision    Recall\n",
       "0  GradientBoostingClassifier  0.894169   0.643693  0.422355"
      ]
     },
     "execution_count": 69,
     "metadata": {},
     "output_type": "execute_result"
    }
   ],
   "source": [
    "resultados_tuning_GBC[[\"Nombre\", \"Accuracy\", \"Precision\", \"Recall\"]]"
   ]
  },
  {
   "cell_type": "code",
   "execution_count": 612,
   "id": "33a37dbc-3a98-4b90-9457-d07c104028eb",
   "metadata": {
    "tags": []
   },
   "outputs": [
    {
     "data": {
      "text/html": [
       "<div>\n",
       "<style scoped>\n",
       "    .dataframe tbody tr th:only-of-type {\n",
       "        vertical-align: middle;\n",
       "    }\n",
       "\n",
       "    .dataframe tbody tr th {\n",
       "        vertical-align: top;\n",
       "    }\n",
       "\n",
       "    .dataframe thead th {\n",
       "        text-align: right;\n",
       "    }\n",
       "</style>\n",
       "<table border=\"1\" class=\"dataframe\">\n",
       "  <thead>\n",
       "    <tr style=\"text-align: right;\">\n",
       "      <th></th>\n",
       "      <th>Nombre</th>\n",
       "      <th>Accuracy</th>\n",
       "      <th>Precision</th>\n",
       "      <th>Recall</th>\n",
       "    </tr>\n",
       "  </thead>\n",
       "  <tbody>\n",
       "    <tr>\n",
       "      <th>0</th>\n",
       "      <td>GradientBoostingClassifier</td>\n",
       "      <td>0.895294</td>\n",
       "      <td>0.549479</td>\n",
       "      <td>0.419483</td>\n",
       "    </tr>\n",
       "  </tbody>\n",
       "</table>\n",
       "</div>"
      ],
      "text/plain": [
       "                       Nombre  Accuracy  Precision    Recall\n",
       "0  GradientBoostingClassifier  0.895294   0.549479  0.419483"
      ]
     },
     "execution_count": 612,
     "metadata": {},
     "output_type": "execute_result"
    }
   ],
   "source": [
    "# balanceado\n",
    "resultados_tuning_GBC[[\"Nombre\", \"Accuracy\", \"Precision\", \"Recall\"]]"
   ]
  },
  {
   "cell_type": "code",
   "execution_count": null,
   "id": "5036dbc6-89ab-4591-ab6d-4170ae392ee8",
   "metadata": {},
   "outputs": [],
   "source": []
  }
 ],
 "metadata": {
  "kernelspec": {
   "display_name": "Python 3 (ipykernel)",
   "language": "python",
   "name": "python3"
  },
  "language_info": {
   "codemirror_mode": {
    "name": "ipython",
    "version": 3
   },
   "file_extension": ".py",
   "mimetype": "text/x-python",
   "name": "python",
   "nbconvert_exporter": "python",
   "pygments_lexer": "ipython3",
   "version": "3.11.5"
  }
 },
 "nbformat": 4,
 "nbformat_minor": 5
}
